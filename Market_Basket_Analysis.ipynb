{
  "nbformat": 4,
  "nbformat_minor": 0,
  "metadata": {
    "colab": {
      "name": "Market-Basket Analysis.ipynb",
      "provenance": [],
      "collapsed_sections": []
    },
    "kernelspec": {
      "name": "python3",
      "display_name": "Python 3"
    },
    "language_info": {
      "name": "python"
    }
  },
  "cells": [
    {
      "cell_type": "markdown",
      "metadata": {
        "id": "yeJ8zO77C4eH"
      },
      "source": [
        "##***Market Basket Analysis (IMDB) - Algorithms for Massive Datasets***"
      ]
    },
    {
      "cell_type": "markdown",
      "metadata": {
        "id": "rLI5ZJ6BDIJX"
      },
      "source": [
        "###**Dataset download via kaggle API and Spark Context set-up**"
      ]
    },
    {
      "cell_type": "markdown",
      "metadata": {
        "id": "xlSlY9UHOYnD"
      },
      "source": [
        "Upload Kaggle key"
      ]
    },
    {
      "cell_type": "code",
      "metadata": {
        "colab": {
          "resources": {
            "http://localhost:8080/nbextensions/google.colab/files.js": {
              "data": "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",
              "ok": true,
              "headers": [
                [
                  "content-type",
                  "application/javascript"
                ]
              ],
              "status": 200,
              "status_text": ""
            }
          },
          "base_uri": "https://localhost:8080/",
          "height": 89
        },
        "id": "nZPFkhl1-Ep-",
        "outputId": "76d62cef-da30-4b34-eb30-32fb8088c072"
      },
      "source": [
        "from google.colab import files\n",
        "files.upload() "
      ],
      "execution_count": null,
      "outputs": [
        {
          "output_type": "display_data",
          "data": {
            "text/html": [
              "\n",
              "     <input type=\"file\" id=\"files-2f2d8085-bf48-4580-89fc-f8266eb85237\" name=\"files[]\" multiple disabled\n",
              "        style=\"border:none\" />\n",
              "     <output id=\"result-2f2d8085-bf48-4580-89fc-f8266eb85237\">\n",
              "      Upload widget is only available when the cell has been executed in the\n",
              "      current browser session. Please rerun this cell to enable.\n",
              "      </output>\n",
              "      <script src=\"/nbextensions/google.colab/files.js\"></script> "
            ],
            "text/plain": [
              "<IPython.core.display.HTML object>"
            ]
          },
          "metadata": {
            "tags": []
          }
        },
        {
          "output_type": "stream",
          "text": [
            "Saving kaggle.json to kaggle.json\n"
          ],
          "name": "stdout"
        },
        {
          "output_type": "execute_result",
          "data": {
            "text/plain": [
              "{'kaggle.json': b'{\"username\":\"alessandrofoffo\",\"key\":\"a63ce383deeeaeeca762490920b37640\"}'}"
            ]
          },
          "metadata": {
            "tags": []
          },
          "execution_count": 1
        }
      ]
    },
    {
      "cell_type": "markdown",
      "metadata": {
        "id": "KnKaBFHROeOy"
      },
      "source": [
        "Install pySpark and initialize SparkContext"
      ]
    },
    {
      "cell_type": "code",
      "metadata": {
        "id": "3R7wR8h67OgE",
        "colab": {
          "base_uri": "https://localhost:8080/"
        },
        "outputId": "1952a229-e109-4253-88ad-773c97718ba4"
      },
      "source": [
        "!pip install pyspark\n",
        "from pyspark import SparkContext\n",
        "from pyspark.sql import SparkSession\n",
        "from pyspark.sql import SQLContext"
      ],
      "execution_count": null,
      "outputs": [
        {
          "output_type": "stream",
          "text": [
            "Collecting pyspark\n",
            "\u001b[?25l  Downloading https://files.pythonhosted.org/packages/89/db/e18cfd78e408de957821ec5ca56de1250645b05f8523d169803d8df35a64/pyspark-3.1.2.tar.gz (212.4MB)\n",
            "\u001b[K     |████████████████████████████████| 212.4MB 62kB/s \n",
            "\u001b[?25hCollecting py4j==0.10.9\n",
            "\u001b[?25l  Downloading https://files.pythonhosted.org/packages/9e/b6/6a4fb90cd235dc8e265a6a2067f2a2c99f0d91787f06aca4bcf7c23f3f80/py4j-0.10.9-py2.py3-none-any.whl (198kB)\n",
            "\u001b[K     |████████████████████████████████| 204kB 18.3MB/s \n",
            "\u001b[?25hBuilding wheels for collected packages: pyspark\n",
            "  Building wheel for pyspark (setup.py) ... \u001b[?25l\u001b[?25hdone\n",
            "  Created wheel for pyspark: filename=pyspark-3.1.2-py2.py3-none-any.whl size=212880768 sha256=96ca0b39ea106bc3078082c54a9290969c1f13802dc309ddbfbdcc24e3de7fe7\n",
            "  Stored in directory: /root/.cache/pip/wheels/40/1b/2c/30f43be2627857ab80062bef1527c0128f7b4070b6b2d02139\n",
            "Successfully built pyspark\n",
            "Installing collected packages: py4j, pyspark\n",
            "Successfully installed py4j-0.10.9 pyspark-3.1.2\n"
          ],
          "name": "stdout"
        }
      ]
    },
    {
      "cell_type": "code",
      "metadata": {
        "id": "CbzGAOz_Tj0H"
      },
      "source": [
        "sc = SparkContext('local[*]')"
      ],
      "execution_count": null,
      "outputs": []
    },
    {
      "cell_type": "code",
      "metadata": {
        "id": "1TW9Eq0ZPBLM"
      },
      "source": [
        "spark = SparkSession.builder.enableHiveSupport().getOrCreate()"
      ],
      "execution_count": null,
      "outputs": []
    },
    {
      "cell_type": "code",
      "metadata": {
        "id": "PNO51kXnVgYO"
      },
      "source": [
        "SQLContext = SQLContext(sc)"
      ],
      "execution_count": null,
      "outputs": []
    },
    {
      "cell_type": "markdown",
      "metadata": {
        "id": "k6fXOiN2Olgu"
      },
      "source": [
        "Import Kaggle and download the dataset"
      ]
    },
    {
      "cell_type": "code",
      "metadata": {
        "id": "jl9k3hZsDRfL"
      },
      "source": [
        "!mkdir -p ~/.kaggle\n",
        "!cp kaggle.json ~/.kaggle/\n",
        "\n",
        "!chmod 600 ~/.kaggle/kaggle.json\n",
        "\n",
        "import kaggle  \n",
        "! pip install -q kaggle"
      ],
      "execution_count": null,
      "outputs": []
    },
    {
      "cell_type": "code",
      "metadata": {
        "colab": {
          "base_uri": "https://localhost:8080/"
        },
        "id": "1TbaCWJVZbUl",
        "outputId": "14e1e85d-128c-4067-f0a7-466fa8e8cfb1"
      },
      "source": [
        "!kaggle datasets download -d ashirwadsangwan/imdb-dataset"
      ],
      "execution_count": null,
      "outputs": [
        {
          "output_type": "stream",
          "text": [
            "Downloading imdb-dataset.zip to /content\n",
            " 99% 1.43G/1.44G [00:13<00:00, 128MB/s]\n",
            "100% 1.44G/1.44G [00:13<00:00, 117MB/s]\n"
          ],
          "name": "stdout"
        }
      ]
    },
    {
      "cell_type": "markdown",
      "metadata": {
        "id": "LiaOvtONOwKm"
      },
      "source": [
        "Extract the dataset"
      ]
    },
    {
      "cell_type": "code",
      "metadata": {
        "id": "L4KIUy3NZd-4"
      },
      "source": [
        "import zipfile \n",
        "dataset = \"imdb-dataset.zip\"\n",
        "\n",
        "with zipfile.ZipFile(dataset, \"r\") as zipdataset:\n",
        "  zipdataset.extractall()"
      ],
      "execution_count": null,
      "outputs": []
    },
    {
      "cell_type": "markdown",
      "metadata": {
        "id": "ew_yW_0eOxnQ"
      },
      "source": [
        "###***Data pre-processing***"
      ]
    },
    {
      "cell_type": "markdown",
      "metadata": {
        "id": "v4cDHjR8PKSw"
      },
      "source": [
        "Reading title-principals.csv file. It will be stored as a DataFrame through the spark SQL context."
      ]
    },
    {
      "cell_type": "code",
      "metadata": {
        "id": "wQKHHyPHbPwW",
        "colab": {
          "base_uri": "https://localhost:8080/"
        },
        "outputId": "9ad1185a-7d4b-4dde-f22e-c888753a45aa"
      },
      "source": [
        "titleprincipals = SQLContext.read.csv('title.principals.tsv.gz', header=True, sep = '\\t')\n",
        "\n",
        "titleprincipals.show(10)"
      ],
      "execution_count": null,
      "outputs": [
        {
          "output_type": "stream",
          "text": [
            "+---------+--------+---------+---------------+--------------------+-----------+\n",
            "|   tconst|ordering|   nconst|       category|                 job| characters|\n",
            "+---------+--------+---------+---------------+--------------------+-----------+\n",
            "|tt0000001|       1|nm1588970|           self|                  \\N|[\"Herself\"]|\n",
            "|tt0000001|       2|nm0005690|       director|                  \\N|         \\N|\n",
            "|tt0000001|       3|nm0374658|cinematographer|director of photo...|         \\N|\n",
            "|tt0000002|       1|nm0721526|       director|                  \\N|         \\N|\n",
            "|tt0000002|       2|nm1335271|       composer|                  \\N|         \\N|\n",
            "|tt0000003|       1|nm0721526|       director|                  \\N|         \\N|\n",
            "|tt0000003|       2|nm5442194|       producer|            producer|         \\N|\n",
            "|tt0000003|       3|nm1335271|       composer|                  \\N|         \\N|\n",
            "|tt0000003|       4|nm5442200|         editor|                  \\N|         \\N|\n",
            "|tt0000004|       1|nm0721526|       director|                  \\N|         \\N|\n",
            "+---------+--------+---------+---------------+--------------------+-----------+\n",
            "only showing top 10 rows\n",
            "\n"
          ],
          "name": "stdout"
        }
      ]
    },
    {
      "cell_type": "markdown",
      "metadata": {
        "id": "amA7fxc0PtPP"
      },
      "source": [
        "Filtering the table through a simple SQL query, in order to consider only the columns referring to the title of the movie and the name of the **actor** or **actress** appearing in them. "
      ]
    },
    {
      "cell_type": "code",
      "metadata": {
        "id": "77gfuRMf1UFO"
      },
      "source": [
        "titleprincipals.createOrReplaceTempView(\"titleprincipals\")"
      ],
      "execution_count": null,
      "outputs": []
    },
    {
      "cell_type": "code",
      "metadata": {
        "colab": {
          "base_uri": "https://localhost:8080/"
        },
        "id": "xGEEGcb81ovH",
        "outputId": "2e606981-7dc0-45fe-b5cc-961b44cc2045"
      },
      "source": [
        "query = \"\"\"SELECT tconst, nconst, category\n",
        "FROM titleprincipals\n",
        "WHERE category == \"actor\" OR category == \"actress\"\n",
        "\"\"\"\n",
        "titleprincipals_1 = spark.sql(query)\n",
        "titleprincipals_1.show()"
      ],
      "execution_count": null,
      "outputs": [
        {
          "output_type": "stream",
          "text": [
            "+---------+---------+--------+\n",
            "|   tconst|   nconst|category|\n",
            "+---------+---------+--------+\n",
            "|tt0000005|nm0443482|   actor|\n",
            "|tt0000005|nm0653042|   actor|\n",
            "|tt0000007|nm0179163|   actor|\n",
            "|tt0000007|nm0183947|   actor|\n",
            "|tt0000008|nm0653028|   actor|\n",
            "|tt0000009|nm0063086| actress|\n",
            "|tt0000009|nm0183823|   actor|\n",
            "|tt0000009|nm1309758|   actor|\n",
            "|tt0000011|nm3692297|   actor|\n",
            "|tt0000014|nm0166380|   actor|\n",
            "|tt0000014|nm0244989|   actor|\n",
            "|tt0000017|nm3691272|   actor|\n",
            "|tt0000017|nm3692829| actress|\n",
            "|tt0000018|nm3692071|   actor|\n",
            "|tt0000026|nm2350007|   actor|\n",
            "|tt0000026|nm0525907|   actor|\n",
            "|tt0000026|nm1151424|   actor|\n",
            "|tt0000026|nm2354154|   actor|\n",
            "|tt0000032|nm3692479| actress|\n",
            "|tt0000036|nm0420198|   actor|\n",
            "+---------+---------+--------+\n",
            "only showing top 20 rows\n",
            "\n"
          ],
          "name": "stdout"
        }
      ]
    },
    {
      "cell_type": "markdown",
      "metadata": {
        "id": "RYwgmV7mQnAi"
      },
      "source": [
        "Reading title-basics.csv file. It will be stored as a DataFrame through the spark SQL context."
      ]
    },
    {
      "cell_type": "code",
      "metadata": {
        "colab": {
          "base_uri": "https://localhost:8080/"
        },
        "id": "peq9v3x3Auzx",
        "outputId": "cf4ce9f8-0340-4d7a-c1a3-3980b5c19405"
      },
      "source": [
        "titlebasics = SQLContext.read.csv('title.basics.tsv.gz', header=True, sep = '\\t')\n",
        "\n",
        "titlebasics.show(10) "
      ],
      "execution_count": null,
      "outputs": [
        {
          "output_type": "stream",
          "text": [
            "+---------+---------+--------------------+--------------------+-------+---------+-------+--------------+--------------------+\n",
            "|   tconst|titleType|        primaryTitle|       originalTitle|isAdult|startYear|endYear|runtimeMinutes|              genres|\n",
            "+---------+---------+--------------------+--------------------+-------+---------+-------+--------------+--------------------+\n",
            "|tt0000001|    short|          Carmencita|          Carmencita|      0|     1894|     \\N|             1|   Documentary,Short|\n",
            "|tt0000002|    short|Le clown et ses c...|Le clown et ses c...|      0|     1892|     \\N|             5|     Animation,Short|\n",
            "|tt0000003|    short|      Pauvre Pierrot|      Pauvre Pierrot|      0|     1892|     \\N|             4|Animation,Comedy,...|\n",
            "|tt0000004|    short|         Un bon bock|         Un bon bock|      0|     1892|     \\N|            \\N|     Animation,Short|\n",
            "|tt0000005|    short|    Blacksmith Scene|    Blacksmith Scene|      0|     1893|     \\N|             1|        Comedy,Short|\n",
            "|tt0000006|    short|   Chinese Opium Den|   Chinese Opium Den|      0|     1894|     \\N|             1|               Short|\n",
            "|tt0000007|    short|Corbett and Court...|Corbett and Court...|      0|     1894|     \\N|             1|         Short,Sport|\n",
            "|tt0000008|    short|Edison Kinetoscop...|Edison Kinetoscop...|      0|     1894|     \\N|             1|   Documentary,Short|\n",
            "|tt0000009|    movie|          Miss Jerry|          Miss Jerry|      0|     1894|     \\N|            45|             Romance|\n",
            "|tt0000010|    short| Exiting the Factory|La sortie de l'us...|      0|     1895|     \\N|             1|   Documentary,Short|\n",
            "+---------+---------+--------------------+--------------------+-------+---------+-------+--------------+--------------------+\n",
            "only showing top 10 rows\n",
            "\n"
          ],
          "name": "stdout"
        }
      ]
    },
    {
      "cell_type": "markdown",
      "metadata": {
        "id": "WrPG_32tQyBF"
      },
      "source": [
        "Filtering the table through a simple SQL query, in order to consider only the rows referring to movies and the columns referring to the id of the movie."
      ]
    },
    {
      "cell_type": "code",
      "metadata": {
        "id": "iKNkmnP_3gbv"
      },
      "source": [
        "titlebasics.createOrReplaceTempView(\"titlebasics\")"
      ],
      "execution_count": null,
      "outputs": []
    },
    {
      "cell_type": "code",
      "metadata": {
        "colab": {
          "base_uri": "https://localhost:8080/"
        },
        "id": "Cx9te1SB3rn9",
        "outputId": "539ce9a5-9ea3-404a-9f66-8dcb01016a11"
      },
      "source": [
        "query = \"\"\"SELECT tconst, titleType\n",
        "FROM titlebasics\n",
        "WHERE titleType=\"movie\"\n",
        "\"\"\"\n",
        "titlebasics_1 = spark.sql(query)\n",
        "titlebasics_1.show()"
      ],
      "execution_count": null,
      "outputs": [
        {
          "output_type": "stream",
          "text": [
            "+---------+---------+\n",
            "|   tconst|titleType|\n",
            "+---------+---------+\n",
            "|tt0000009|    movie|\n",
            "|tt0000147|    movie|\n",
            "|tt0000335|    movie|\n",
            "|tt0000502|    movie|\n",
            "|tt0000574|    movie|\n",
            "|tt0000615|    movie|\n",
            "|tt0000630|    movie|\n",
            "|tt0000675|    movie|\n",
            "|tt0000676|    movie|\n",
            "|tt0000679|    movie|\n",
            "|tt0000739|    movie|\n",
            "|tt0000793|    movie|\n",
            "|tt0000812|    movie|\n",
            "|tt0000814|    movie|\n",
            "|tt0000838|    movie|\n",
            "|tt0000842|    movie|\n",
            "|tt0000846|    movie|\n",
            "|tt0000850|    movie|\n",
            "|tt0000859|    movie|\n",
            "|tt0000862|    movie|\n",
            "+---------+---------+\n",
            "only showing top 20 rows\n",
            "\n"
          ],
          "name": "stdout"
        }
      ]
    },
    {
      "cell_type": "markdown",
      "metadata": {
        "id": "AGmhIPLbS3Am"
      },
      "source": [
        "Generation of a dataframe consisting of two columns: one for the id of the movie and the other one for the id of the actor. Since the dataframe is the result of a join operation between the two tables obtained before, there is one entry for every actor appearing in each movie (notice that the filtering operations performed previously allows us to focus exclusively on actor and actresses appearing in movies).\n",
        "This dataframe will be next used to obtain the RDD containing one entry for each basket (represented by a single movie and its corresponding actors)."
      ]
    },
    {
      "cell_type": "code",
      "metadata": {
        "id": "bo7nhQr18Pe7"
      },
      "source": [
        "titlebasics_1.createOrReplaceTempView(\"titlebasics_1\")\n",
        "titleprincipals_1.createOrReplaceTempView(\"titleprincipals_1\")"
      ],
      "execution_count": null,
      "outputs": []
    },
    {
      "cell_type": "code",
      "metadata": {
        "id": "ZHh0pt5C4H_6",
        "colab": {
          "base_uri": "https://localhost:8080/"
        },
        "outputId": "2a3a0be3-297a-4b8c-bdc4-59c7acf2a8f1"
      },
      "source": [
        "query = \"\"\"SELECT b.tconst, nconst\n",
        "FROM titlebasics_1 AS b INNER JOIN titleprincipals_1 AS p ON b.tconst=p.tconst\n",
        "\"\"\"\n",
        "joined_table = spark.sql(query)\n",
        "joined_table.show()"
      ],
      "execution_count": null,
      "outputs": [
        {
          "output_type": "stream",
          "text": [
            "+---------+---------+\n",
            "|   tconst|   nconst|\n",
            "+---------+---------+\n",
            "|tt0002591|nm0029806|\n",
            "|tt0002591|nm0509573|\n",
            "|tt0003689|nm0694718|\n",
            "|tt0003689|nm0101071|\n",
            "|tt0003689|nm0910564|\n",
            "|tt0003689|nm0527801|\n",
            "|tt0003689|nm0585503|\n",
            "|tt0003689|nm0728289|\n",
            "|tt0003689|nm0399988|\n",
            "|tt0004272|nm0368875|\n",
            "|tt0004272|nm0192062|\n",
            "|tt0004272|nm0285643|\n",
            "|tt0004272|nm0776747|\n",
            "|tt0004272|nm0793189|\n",
            "|tt0004272|nm0445507|\n",
            "|tt0004272|nm0092665|\n",
            "|tt0004272|nm0383278|\n",
            "|tt0004272|nm0492302|\n",
            "|tt0004336|nm0102718|\n",
            "|tt0004336|nm0478359|\n",
            "+---------+---------+\n",
            "only showing top 20 rows\n",
            "\n"
          ],
          "name": "stdout"
        }
      ]
    },
    {
      "cell_type": "markdown",
      "metadata": {
        "id": "eiYLJC25U2WS"
      },
      "source": [
        "Reading name-basics.csv file. It will be stored as a DataFrame through the spark SQL context."
      ]
    },
    {
      "cell_type": "code",
      "metadata": {
        "colab": {
          "base_uri": "https://localhost:8080/"
        },
        "id": "rxCNCyOhDZL1",
        "outputId": "5b6f7c28-9d87-4403-c443-65690aa1e2f8"
      },
      "source": [
        "namebasics = SQLContext.read.csv('name.basics.tsv.gz', header = True, sep = '\\t')\n",
        "namebasics.show(10)"
      ],
      "execution_count": null,
      "outputs": [
        {
          "output_type": "stream",
          "text": [
            "+---------+---------------+---------+---------+--------------------+--------------------+\n",
            "|   nconst|    primaryName|birthYear|deathYear|   primaryProfession|      knownForTitles|\n",
            "+---------+---------------+---------+---------+--------------------+--------------------+\n",
            "|nm0000001|   Fred Astaire|     1899|     1987|soundtrack,actor,...|tt0050419,tt00531...|\n",
            "|nm0000002|  Lauren Bacall|     1924|     2014|  actress,soundtrack|tt0117057,tt00373...|\n",
            "|nm0000003|Brigitte Bardot|     1934|       \\N|actress,soundtrac...|tt0049189,tt00599...|\n",
            "|nm0000004|   John Belushi|     1949|     1982|actor,writer,soun...|tt0078723,tt00804...|\n",
            "|nm0000005| Ingmar Bergman|     1918|     2007|writer,director,a...|tt0050986,tt00839...|\n",
            "|nm0000006| Ingrid Bergman|     1915|     1982|actress,soundtrac...|tt0077711,tt00387...|\n",
            "|nm0000007|Humphrey Bogart|     1899|     1957|actor,soundtrack,...|tt0033870,tt00373...|\n",
            "|nm0000008|  Marlon Brando|     1924|     2004|actor,soundtrack,...|tt0078788,tt00708...|\n",
            "|nm0000009| Richard Burton|     1925|     1984|actor,producer,so...|tt0059749,tt00611...|\n",
            "|nm0000010|   James Cagney|     1899|     1986|actor,soundtrack,...|tt0031867,tt00298...|\n",
            "+---------+---------------+---------+---------+--------------------+--------------------+\n",
            "only showing top 10 rows\n",
            "\n"
          ],
          "name": "stdout"
        }
      ]
    },
    {
      "cell_type": "markdown",
      "metadata": {
        "id": "FdQGKKCyRAVc"
      },
      "source": [
        "###***A-Priori Algorithm***"
      ]
    },
    {
      "cell_type": "markdown",
      "metadata": {
        "id": "6wYQVFM2v1cN"
      },
      "source": [
        "The A-Priori algorithm was implemented to find only the frequent pairs. The algorithm performs two passes over the data: in the first one, a list containing all the frequent singleton items is produced; in the second pass instead, the baskets file is scanned to output the count of the pairs in which both items are frequent: among these, the ones with a number of occurrences larger than the threshold are selected, to form the set of frequent pairs."
      ]
    },
    {
      "cell_type": "markdown",
      "metadata": {
        "id": "Tfssn1pLbSHL"
      },
      "source": [
        "First of all, an rdd where every entry is a basket is created: it is obtained enforcing the groupByKey transformation on the rdd whose entries are the single entries of the joined table obtained previously, and encapsulating in a list the set of actors corresponding to each movie. In this way, each entry is formed by a tuple containing a movie and the corresponding list of actors. "
      ]
    },
    {
      "cell_type": "code",
      "metadata": {
        "id": "rGw24_0Rlniu"
      },
      "source": [
        "baskets_rdd = (joined_table.rdd\n",
        "                           .map(tuple)\n",
        "                           .groupByKey()\n",
        "                           .mapValues(list))"
      ],
      "execution_count": null,
      "outputs": []
    },
    {
      "cell_type": "markdown",
      "metadata": {
        "id": "mS6N8-B1lWdb"
      },
      "source": [
        "Importing combinations function"
      ]
    },
    {
      "cell_type": "code",
      "metadata": {
        "id": "_JNDD5OubQ53"
      },
      "source": [
        "from itertools import combinations"
      ],
      "execution_count": null,
      "outputs": []
    },
    {
      "cell_type": "markdown",
      "metadata": {
        "id": "H8WD_BaAcgDc"
      },
      "source": [
        "This function implements the two passes of the A-Priori algorithm described previously. It takes as input the RDD of baskets defined before and a threshold that is defined by the user, and returns as output the list of frequent pairs of actors (along with their absolute frequency)."
      ]
    },
    {
      "cell_type": "code",
      "metadata": {
        "id": "6UvqgKtKHoF7"
      },
      "source": [
        "def apriori(baskets_rdd, threshold):\n",
        "  single_actors_countval=(baskets_rdd #the rdd of baskets defined before\n",
        "                         .flatMap(lambda s:s[1]) #only consider the actors\n",
        "                         .map(lambda s:(s,1))\n",
        "                         .reduceByKey(lambda a,b:a+b) #obtain each actor with the total number of occurrencies\n",
        "                         .collect())\n",
        "  apriori.frequent_single_actors=list(filter(lambda s: s[1]>threshold, single_actors_countval)) #filter only the frequent actors\n",
        "  frequent_single_actors_list=[x[0] for x in apriori.frequent_single_actors] #this list stores the ids of the frequent actors\n",
        "  frequent_actors_pairs_list=(baskets_rdd\n",
        "                              .map(lambda s:s[1])\n",
        "                              .map(lambda s: [x for x in s if x in frequent_single_actors_list])\n",
        "                              .filter(lambda s: len(s)>=2)\n",
        "                              .flatMap(lambda s: list(combinations(s, 2)))\n",
        "                              .map(lambda s:tuple(sorted(s)))\n",
        "                              .map(lambda s:(s,1))\n",
        "                              .reduceByKey(lambda a,b:a+b)\n",
        "                              .collect())\n",
        "\n",
        "  frequent_pairs_list=list(filter(lambda s: s[1]>threshold, frequent_actors_pairs_list)) #filter frequent pairs\n",
        "  return frequent_pairs_list"
      ],
      "execution_count": null,
      "outputs": []
    },
    {
      "cell_type": "markdown",
      "metadata": {
        "id": "v_9qi7fkg5UH"
      },
      "source": [
        "Applying A-Priori (with a threshold of 125) on the RDD of baskets, there seem to be 5 frequent pairs.\n"
      ]
    },
    {
      "cell_type": "code",
      "metadata": {
        "colab": {
          "base_uri": "https://localhost:8080/"
        },
        "id": "4AR12c8QgBnp",
        "outputId": "7e479b95-9001-4a94-fdbd-66dd6735c344"
      },
      "source": [
        "apriori(baskets_rdd, 125)"
      ],
      "execution_count": null,
      "outputs": [
        {
          "output_type": "execute_result",
          "data": {
            "text/plain": [
              "[(('nm0006982', 'nm0046850'), 169),\n",
              " (('nm0648803', 'nm2082516'), 147),\n",
              " (('nm0006982', 'nm0623427'), 236),\n",
              " (('nm0648803', 'nm2373718'), 126),\n",
              " (('nm0006982', 'nm0419653'), 162)]"
            ]
          },
          "metadata": {
            "tags": []
          },
          "execution_count": 21
        }
      ]
    },
    {
      "cell_type": "markdown",
      "metadata": {
        "id": "AkKFvC3p2tRj"
      },
      "source": [
        "###***SON Algorithm***"
      ]
    },
    {
      "cell_type": "markdown",
      "metadata": {
        "id": "GSpfgZfVueEp"
      },
      "source": [
        "In the SON-Algorithm instead, the input file is partitioned into chunks and the set of candidate pairs is obtained by applying the A-Priori algorithm (using a threshold proportional to the dimension of the sample) on each chunk and taking the union of the pairs that were found to be frequent in them.\n",
        "In a second pass through the baskets file, a filtering operations to remove false positives is carried out: namely, for each pair in the candidate set, its number of occurencies in the whole dataset is computed, and only the pairs that are found to occur a number of times larger than the threshold are picked to form the set of frequent pairs.\n"
      ]
    },
    {
      "cell_type": "markdown",
      "metadata": {
        "id": "wOoOSv0lwCt9"
      },
      "source": [
        "To generate the chunks, first of all, the rdd with the baskets file is collected in main memory to generate a list of 2-tuples, containing for each movie id the list of corresponding actors. "
      ]
    },
    {
      "cell_type": "code",
      "metadata": {
        "id": "ywCRqffxQFgd"
      },
      "source": [
        "baskets_list=(joined_table.rdd\n",
        "              .map(tuple)\n",
        "              .groupByKey()\n",
        "              .mapValues(list)\n",
        "              .collect())"
      ],
      "execution_count": null,
      "outputs": []
    },
    {
      "cell_type": "markdown",
      "metadata": {
        "id": "7LqxhYiEwre8"
      },
      "source": [
        "The baskets list is partitioned in n-sized chunks using the following function. It takes as input the list containing all the baskets, and gives back as output a list of lists, containing one list for each chunk."
      ]
    },
    {
      "cell_type": "code",
      "metadata": {
        "id": "ca7kmsjd4TZL"
      },
      "source": [
        "def chunks(lst, n):\n",
        "    \"\"\"Yield successive n-sized chunks from lst.\"\"\"\n",
        "    for i in range(0, len(lst), n):\n",
        "        yield lst[i:i + n]"
      ],
      "execution_count": null,
      "outputs": []
    },
    {
      "cell_type": "markdown",
      "metadata": {
        "id": "SwGKr_VFw435"
      },
      "source": [
        "Since we want to partition the baskets file into 10 chunks, we pick n=number of baskets/10."
      ]
    },
    {
      "cell_type": "code",
      "metadata": {
        "id": "EuFFuBF57Xp5",
        "colab": {
          "base_uri": "https://localhost:8080/"
        },
        "outputId": "7ccbe0f3-5ea6-4867-b3f3-7005ea898e6a"
      },
      "source": [
        "list_of_chunks=list(chunks(baskets_list,round(len(baskets_list)/10)))\n",
        "\n",
        "for i in range(len(list_of_chunks)):\n",
        "  print(len(list_of_chunks[i]))"
      ],
      "execution_count": null,
      "outputs": [
        {
          "output_type": "stream",
          "text": [
            "39376\n",
            "39376\n",
            "39376\n",
            "39376\n",
            "39376\n",
            "39376\n",
            "39376\n",
            "39376\n",
            "39376\n",
            "39375\n"
          ],
          "name": "stdout"
        }
      ]
    },
    {
      "cell_type": "markdown",
      "metadata": {
        "id": "aX48Jo4GxV_3"
      },
      "source": [
        "This function generates the set of candidate pairs obtained from the first pass of the SON Algorithm. In particular, it takes as input the list of chunks output by the function previously defined, and outputs the list of candidate pairs."
      ]
    },
    {
      "cell_type": "code",
      "metadata": {
        "id": "MzjrFc4No5xq"
      },
      "source": [
        "def get_candidates_SON(list_of_chunks, threshold):\n",
        "  apriori_results=[]\n",
        "  \n",
        "  for i in range(len(list_of_chunks)):   #with this for loop, the lists containing the frequent pairs and the corresponding frequency in each tuple is stored in apriori_results\n",
        "    apriori_results.append(apriori(sc.parallelize(list_of_chunks[i]), round(threshold/len(list_of_chunks)))) \n",
        "    \n",
        "  frequent_pairs_in_chunks=[apriori_results[i][j][0] for i in range(len(apriori_results)) for j in range(len(apriori_results[i]))] #here the frequency is discarded\n",
        "  candidates=list(set(frequent_pairs_in_chunks)) #here duplicates are removed\n",
        "\n",
        "  \n",
        "  return candidates"
      ],
      "execution_count": null,
      "outputs": []
    },
    {
      "cell_type": "code",
      "metadata": {
        "id": "wT7pRhp8MPHu"
      },
      "source": [
        "candidates=get_candidates_SON(list_of_chunks,125)"
      ],
      "execution_count": null,
      "outputs": []
    },
    {
      "cell_type": "code",
      "metadata": {
        "colab": {
          "base_uri": "https://localhost:8080/"
        },
        "id": "NwXiO4LMXzoi",
        "outputId": "68900b48-b295-4716-a062-cec5d3ac4414"
      },
      "source": [
        "candidates"
      ],
      "execution_count": null,
      "outputs": [
        {
          "output_type": "execute_result",
          "data": {
            "text/plain": [
              "[('nm0019382', 'nm0103977'),\n",
              " ('nm0648803', 'nm2077739'),\n",
              " ('nm0945427', 'nm2394215'),\n",
              " ('nm0046850', 'nm0623427'),\n",
              " ('nm0006982', 'nm0046850'),\n",
              " ('nm0246703', 'nm0688093'),\n",
              " ('nm1984183', 'nm1990182'),\n",
              " ('nm0419653', 'nm0623427'),\n",
              " ('nm0006982', 'nm0534867'),\n",
              " ('nm1770187', 'nm2373718'),\n",
              " ('nm0046850', 'nm0419653'),\n",
              " ('nm1698868', 'nm2384746'),\n",
              " ('nm0006982', 'nm0616102'),\n",
              " ('nm0648803', 'nm1770187'),\n",
              " ('nm1698868', 'nm2366585'),\n",
              " ('nm1770187', 'nm2077739'),\n",
              " ('nm2366585', 'nm2384746'),\n",
              " ('nm2077739', 'nm2373718'),\n",
              " ('nm0659173', 'nm1006879'),\n",
              " ('nm0006982', 'nm0623427'),\n",
              " ('nm0648803', 'nm2082516'),\n",
              " ('nm0006982', 'nm0080246'),\n",
              " ('nm0619779', 'nm0623427'),\n",
              " ('nm0006982', 'nm0619779'),\n",
              " ('nm2082516', 'nm2373718'),\n",
              " ('nm0006982', 'nm0419653'),\n",
              " ('nm0648803', 'nm2373718'),\n",
              " ('nm0006982', 'nm1467390')]"
            ]
          },
          "metadata": {
            "tags": []
          },
          "execution_count": 27
        }
      ]
    },
    {
      "cell_type": "markdown",
      "metadata": {
        "id": "YnEg4VDhy28R"
      },
      "source": [
        "This function performs the filtering operation characterizing the second pass of the SON Algorithm: it takes as input the rdd containing all the baskets, the list of candidates output in the first pass and the threshold; it outputs the set of frequent pairs and relative frequency."
      ]
    },
    {
      "cell_type": "code",
      "metadata": {
        "id": "7MLhPZ14FCmr"
      },
      "source": [
        "def filter_false_positives_SON(baskets_rdd, candidates, threshold):\n",
        "  frequent_pairs=(baskets_rdd\n",
        "                  .map(lambda s: s[1])\n",
        "                  .flatMap(lambda s: list(combinations(s, 2)))\n",
        "                  .map(lambda s:tuple(sorted(s)))\n",
        "                  .filter(lambda s: s in candidates)\n",
        "                  .map(lambda s:(s,1))\n",
        "                  .reduceByKey(lambda a,b:a+b)\n",
        "                  .filter(lambda s: s[1]>threshold)\n",
        "                  .collect())\n",
        "  return frequent_pairs"
      ],
      "execution_count": null,
      "outputs": []
    },
    {
      "cell_type": "code",
      "metadata": {
        "id": "BmCryVZNHYWl"
      },
      "source": [
        "frequent_pairs=filter_false_positives_SON(baskets_rdd, candidates, 125)"
      ],
      "execution_count": null,
      "outputs": []
    },
    {
      "cell_type": "code",
      "metadata": {
        "id": "k0HAImKhH-GD",
        "colab": {
          "base_uri": "https://localhost:8080/"
        },
        "outputId": "14e99ca0-2d27-4d29-f14f-6782b99f609b"
      },
      "source": [
        "frequent_pairs"
      ],
      "execution_count": null,
      "outputs": [
        {
          "output_type": "execute_result",
          "data": {
            "text/plain": [
              "[(('nm0006982', 'nm0046850'), 169),\n",
              " (('nm0648803', 'nm2082516'), 147),\n",
              " (('nm0006982', 'nm0623427'), 236),\n",
              " (('nm0648803', 'nm2373718'), 126),\n",
              " (('nm0006982', 'nm0419653'), 162)]"
            ]
          },
          "metadata": {
            "tags": []
          },
          "execution_count": 30
        }
      ]
    },
    {
      "cell_type": "markdown",
      "metadata": {
        "id": "k5bSKkp3hGSD"
      },
      "source": [
        "This is the same result achieved with the A-priori algorithm"
      ]
    },
    {
      "cell_type": "code",
      "metadata": {
        "id": "bPyeGlgjhFiR",
        "colab": {
          "base_uri": "https://localhost:8080/"
        },
        "outputId": "ac4ca619-d02f-473b-c415-50f5c3cecce7"
      },
      "source": [
        "apriori(baskets_rdd, 125)"
      ],
      "execution_count": null,
      "outputs": [
        {
          "output_type": "execute_result",
          "data": {
            "text/plain": [
              "[(('nm0006982', 'nm0046850'), 169),\n",
              " (('nm0648803', 'nm2082516'), 147),\n",
              " (('nm0006982', 'nm0623427'), 236),\n",
              " (('nm0648803', 'nm2373718'), 126),\n",
              " (('nm0006982', 'nm0419653'), 162)]"
            ]
          },
          "metadata": {
            "tags": []
          },
          "execution_count": 31
        }
      ]
    },
    {
      "cell_type": "markdown",
      "metadata": {
        "id": "qb3XYNCmMwZh"
      },
      "source": [
        "###***Analysis of the frequent pairs found***"
      ]
    },
    {
      "cell_type": "markdown",
      "metadata": {
        "id": "v4dE1GwSNScv"
      },
      "source": [
        "We found 5 pairs of actors that appear together in the same movie. Let us discover their names from the name_basic table."
      ]
    },
    {
      "cell_type": "code",
      "metadata": {
        "id": "oyPe3_diQJ61"
      },
      "source": [
        "frequent_pairs=sc.parallelize(frequent_pairs)"
      ],
      "execution_count": null,
      "outputs": []
    },
    {
      "cell_type": "code",
      "metadata": {
        "id": "0qLJKTbCQRsv"
      },
      "source": [
        "frequent_names=(frequent_pairs\n",
        "                .flatMap(lambda s:s[0])\n",
        "                .collect())"
      ],
      "execution_count": null,
      "outputs": []
    },
    {
      "cell_type": "code",
      "metadata": {
        "colab": {
          "base_uri": "https://localhost:8080/"
        },
        "id": "Gr29Qdb7QufP",
        "outputId": "8de2aebf-dd08-4e94-da9e-5e5a808209bc"
      },
      "source": [
        "frequent_names=tuple(set(frequent_names)) #remove duplicates\n",
        "frequent_names"
      ],
      "execution_count": null,
      "outputs": [
        {
          "output_type": "execute_result",
          "data": {
            "text/plain": [
              "('nm0006982',\n",
              " 'nm0648803',\n",
              " 'nm2082516',\n",
              " 'nm2373718',\n",
              " 'nm0419653',\n",
              " 'nm0046850',\n",
              " 'nm0623427')"
            ]
          },
          "metadata": {
            "tags": []
          },
          "execution_count": 34
        }
      ]
    },
    {
      "cell_type": "markdown",
      "metadata": {
        "id": "M-cPCOqhzrvV"
      },
      "source": [
        "Here the namebasics table is queried in order to retrieve the name of the actors that figure in the pairs output as frequent by the previous algorithms."
      ]
    },
    {
      "cell_type": "code",
      "metadata": {
        "id": "ugO5MGUVdZsJ"
      },
      "source": [
        "namebasics.createOrReplaceTempView(\"namebasics\")"
      ],
      "execution_count": null,
      "outputs": []
    },
    {
      "cell_type": "code",
      "metadata": {
        "colab": {
          "base_uri": "https://localhost:8080/"
        },
        "id": "GGhd2h6NOS6-",
        "outputId": "65ca80a9-1a4c-4c7c-a5d8-2cd33d9230cd"
      },
      "source": [
        "query = \"\"\"SELECT nconst, primaryName\n",
        "FROM namebasics\n",
        "WHERE nconst IN ('nm0419653',\n",
        " 'nm0623427',\n",
        " 'nm0046850',\n",
        " 'nm2373718',\n",
        " 'nm2082516',\n",
        " 'nm0006982',\n",
        " 'nm0648803')\n",
        "\"\"\"\n",
        "actors_name = spark.sql(query)\n",
        "actors_name.show()"
      ],
      "execution_count": null,
      "outputs": [
        {
          "output_type": "stream",
          "text": [
            "+---------+----------------+\n",
            "|   nconst|     primaryName|\n",
            "+---------+----------------+\n",
            "|nm0006982|     Adoor Bhasi|\n",
            "|nm0046850|         Bahadur|\n",
            "|nm0419653|     Jayabharati|\n",
            "|nm0623427|      Prem Nazir|\n",
            "|nm0648803|Matsunosuke Onoe|\n",
            "|nm2082516|    Kijaku Ôtani|\n",
            "|nm2373718|Kitsuraku Arashi|\n",
            "+---------+----------------+\n",
            "\n"
          ],
          "name": "stdout"
        }
      ]
    },
    {
      "cell_type": "markdown",
      "metadata": {
        "id": "rYD0q1egRoGH"
      },
      "source": [
        "Let us make two examples of an association rule, and the corresponding confidence. We consider the most frequent pair, that is the one with Adoor Bhasi and Prem Nazir and the least frequent one, that is the one with Matsunosuke Onoe and Kitsuraku Arashi."
      ]
    },
    {
      "cell_type": "code",
      "metadata": {
        "id": "WkrmufwGaX2a"
      },
      "source": [
        "frequent_pairs=frequent_pairs.collect()"
      ],
      "execution_count": null,
      "outputs": []
    },
    {
      "cell_type": "code",
      "metadata": {
        "colab": {
          "base_uri": "https://localhost:8080/"
        },
        "id": "bIl3VuUFPYWb",
        "outputId": "8252b3d1-4a8f-4abd-fc07-0126d0f49d1e"
      },
      "source": [
        "supp_Iuj=frequent_pairs[2][1]\n",
        "supp_Iuj"
      ],
      "execution_count": null,
      "outputs": [
        {
          "output_type": "execute_result",
          "data": {
            "text/plain": [
              "236"
            ]
          },
          "metadata": {
            "tags": []
          },
          "execution_count": 38
        }
      ]
    },
    {
      "cell_type": "markdown",
      "metadata": {
        "id": "3W08MEWXVOdV"
      },
      "source": [
        "The support of the single actors was found from the first pass of the A-priori algorithm and stored in a list of tuples. Let us cast that list in a dictionary and retrieve the support of Ador Bhasi ('nm0006982')."
      ]
    },
    {
      "cell_type": "code",
      "metadata": {
        "id": "-kNKnfS9TjV4"
      },
      "source": [
        "frequent_single_actors={i:j for (i,j) in apriori.frequent_single_actors}"
      ],
      "execution_count": null,
      "outputs": []
    },
    {
      "cell_type": "code",
      "metadata": {
        "colab": {
          "base_uri": "https://localhost:8080/"
        },
        "id": "q_hniZRnU8qn",
        "outputId": "197df1fd-7f4c-4df6-aa50-6ffcabd84a64"
      },
      "source": [
        "supp_I=frequent_single_actors['nm0006982']\n",
        "supp_I"
      ],
      "execution_count": null,
      "outputs": [
        {
          "output_type": "execute_result",
          "data": {
            "text/plain": [
              "585"
            ]
          },
          "metadata": {
            "tags": []
          },
          "execution_count": 40
        }
      ]
    },
    {
      "cell_type": "code",
      "metadata": {
        "colab": {
          "base_uri": "https://localhost:8080/"
        },
        "id": "uwt0G5mnVlAR",
        "outputId": "3de79dac-f57c-4475-e68d-b228641bb198"
      },
      "source": [
        "confidence=supp_Iuj/supp_I\n",
        "confidence"
      ],
      "execution_count": null,
      "outputs": [
        {
          "output_type": "execute_result",
          "data": {
            "text/plain": [
              "0.40341880341880343"
            ]
          },
          "metadata": {
            "tags": []
          },
          "execution_count": 41
        }
      ]
    },
    {
      "cell_type": "markdown",
      "metadata": {
        "id": "2AjXfsZJWwCu"
      },
      "source": [
        "So with probability 0.4 Nazir will appear in a movie where Bhasi is also playing."
      ]
    },
    {
      "cell_type": "markdown",
      "metadata": {
        "id": "NDLcy57ttUnI"
      },
      "source": [
        "Let us compute the confidence of the least frequent association rule, the one between Onoe('nm0648803') and Arashi('nm2373718')"
      ]
    },
    {
      "cell_type": "code",
      "metadata": {
        "colab": {
          "base_uri": "https://localhost:8080/"
        },
        "id": "y1cL66stqGzy",
        "outputId": "0be616e5-5fd6-4c5d-a5c4-0c4dd3eafe30"
      },
      "source": [
        "supp_I=frequent_single_actors['nm0648803']\n",
        "supp_I"
      ],
      "execution_count": null,
      "outputs": [
        {
          "output_type": "execute_result",
          "data": {
            "text/plain": [
              "565"
            ]
          },
          "metadata": {
            "tags": []
          },
          "execution_count": 42
        }
      ]
    },
    {
      "cell_type": "code",
      "metadata": {
        "colab": {
          "base_uri": "https://localhost:8080/"
        },
        "id": "HCmvrEGqt1oY",
        "outputId": "298aa105-d958-4d66-f574-5c25aee623da"
      },
      "source": [
        "supp_Iuj=frequent_pairs[3][1]\n",
        "supp_Iuj"
      ],
      "execution_count": null,
      "outputs": [
        {
          "output_type": "execute_result",
          "data": {
            "text/plain": [
              "126"
            ]
          },
          "metadata": {
            "tags": []
          },
          "execution_count": 43
        }
      ]
    },
    {
      "cell_type": "code",
      "metadata": {
        "colab": {
          "base_uri": "https://localhost:8080/"
        },
        "id": "vaH7z3R5t_J5",
        "outputId": "811dc4f9-4ebc-41b7-f0ae-98900101e08d"
      },
      "source": [
        "confidence=supp_Iuj/supp_I\n",
        "confidence"
      ],
      "execution_count": null,
      "outputs": [
        {
          "output_type": "execute_result",
          "data": {
            "text/plain": [
              "0.22300884955752212"
            ]
          },
          "metadata": {
            "tags": []
          },
          "execution_count": 44
        }
      ]
    },
    {
      "cell_type": "markdown",
      "metadata": {
        "id": "QbkH_vujwl6q"
      },
      "source": [
        "With probability 0.22 Arashi will appear in a movie where Onoe is also playing."
      ]
    },
    {
      "cell_type": "code",
      "metadata": {
        "id": "QTyRLRCOwq9B"
      },
      "source": [
        ""
      ],
      "execution_count": null,
      "outputs": []
    }
  ]
}